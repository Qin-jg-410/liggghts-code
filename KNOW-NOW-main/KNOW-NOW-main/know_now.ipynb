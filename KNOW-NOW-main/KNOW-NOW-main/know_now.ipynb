{
  "nbformat": 4,
  "nbformat_minor": 0,
  "metadata": {
    "colab": {
      "provenance": []
    },
    "kernelspec": {
      "name": "python3",
      "display_name": "Python 3"
    },
    "language_info": {
      "name": "python"
    }
  },
  "cells": [
    {
      "cell_type": "code",
      "execution_count": 12,
      "metadata": {
        "id": "bEidvJYhExHM",
        "colab": {
          "base_uri": "https://localhost:8080/"
        },
        "outputId": "3dcb259c-4888-4987-cfb1-67df43ada515"
      },
      "outputs": [
        {
          "output_type": "stream",
          "name": "stdout",
          "text": [
            "Requirement already satisfied: plotly in /usr/local/lib/python3.10/dist-packages (5.15.0)\n",
            "Requirement already satisfied: tenacity>=6.2.0 in /usr/local/lib/python3.10/dist-packages (from plotly) (8.2.3)\n",
            "Requirement already satisfied: packaging in /usr/local/lib/python3.10/dist-packages (from plotly) (23.2)\n",
            "--2023-11-30 09:26:49--  https://raw.githubusercontent.com/BjoernMie/KNOW-NOW/main/db-know-now.yml\n",
            "Resolving raw.githubusercontent.com (raw.githubusercontent.com)... 185.199.109.133, 185.199.111.133, 185.199.110.133, ...\n",
            "Connecting to raw.githubusercontent.com (raw.githubusercontent.com)|185.199.109.133|:443... connected.\n",
            "HTTP request sent, awaiting response... 200 OK\n",
            "Length: 191907 (187K) [text/plain]\n",
            "Saving to: ‘db-know-now.yml’\n",
            "\n",
            "db-know-now.yml     100%[===================>] 187.41K  --.-KB/s    in 0.03s   \n",
            "\n",
            "2023-11-30 09:26:49 (5.23 MB/s) - ‘db-know-now.yml’ saved [191907/191907]\n",
            "\n"
          ]
        }
      ],
      "source": [
        "!pip install plotly\n",
        "import os, yaml\n",
        "\n",
        "file_name = \"db-know-now.yml\"\n",
        "file_url = f\"https://raw.githubusercontent.com/BjoernMie/KNOW-NOW/main/{file_name}\"\n",
        "\n",
        "# Check if the file already exists\n",
        "if not os.path.exists(file_name):\n",
        "    # If not, download it\n",
        "    !wget {file_url}\n",
        "else:\n",
        "    print(f\"The file '{file_name}' already exists.\")\n",
        "\n",
        "with open(file_name, 'r') as file:\n",
        "    data = yaml.safe_load(file)\n"
      ]
    },
    {
      "cell_type": "code",
      "source": [
        "def print_keys_of_specific_subdicts(dictionary):\n",
        "    \"\"\"\n",
        "    This function prints all keys of sub-dictionaries in the provided dictionary,\n",
        "    where the key of the sub-dictionary ends with 'datadive_results.yml'.\n",
        "    \"\"\"\n",
        "    for key, value in dictionary.items():\n",
        "        if key.endswith('datadive_results.yml') and isinstance(value, dict):\n",
        "            print(f\"Keys under '{key}':\")\n",
        "            for sub_key in value.keys():\n",
        "                print(sub_key)\n",
        "\n",
        "# Example Usage\n",
        "print_keys_of_specific_subdicts(data)\n",
        "\n",
        "import plotly.graph_objects as go\n",
        "import numpy as np\n",
        "\n",
        "# Generating data for the sine wave\n",
        "y = data[\"2023-11-28-11h02m47s-DataDive_datadive_results.yml\"][\"stressMPa\"]\n",
        "x = data[\"2023-11-28-11h02m47s-DataDive_datadive_results.yml\"][\"strain\"]\n",
        "\n",
        "# Creating the figure\n",
        "fig = go.Figure()\n",
        "\n",
        "# Adding the line plot to the figure\n",
        "fig.add_trace(go.Scatter(x=x, y=y, mode='lines+markers', marker=dict(symbol='square'), name='Stress & Strain'))\n",
        "\n",
        "# Updating layout for a better look\n",
        "fig.update_layout(title='Stress & Strain',\n",
        "                  xaxis_title='Strain',\n",
        "                  yaxis_title='Stress')\n",
        "\n",
        "# Show the plot\n",
        "fig.show()\n",
        "\n"
      ],
      "metadata": {
        "colab": {
          "base_uri": "https://localhost:8080/",
          "height": 1000
        },
        "outputId": "36897dd1-1f12-426b-bb0a-dc20be7ac26e",
        "id": "2kWCsNAGhoIO"
      },
      "execution_count": 17,
      "outputs": [
        {
          "output_type": "stream",
          "name": "stdout",
          "text": [
            "Keys under '2023-11-28-11h02m47s-DataDive_datadive_results.yml':\n",
            "Class\n",
            "Fz\n",
            "Title\n",
            "bottomwall\n",
            "dumprate trajectory\n",
            "dumprate vtk and stl\n",
            "id_file\n",
            "id_folder\n",
            "strain\n",
            "stressMPa\n",
            "t\n",
            "timesteps\n",
            "topwall\n",
            "total number of hard particles\n",
            "velocity of pressing plate\n",
            "Keys under '2023-11-28-11h30m06s-DataDive_datadive_results.yml':\n",
            "Class\n",
            "Fz\n",
            "Title\n",
            "bottomwall\n",
            "dumprate trajectory\n",
            "dumprate vtk and stl\n",
            "id_file\n",
            "id_folder\n",
            "strain\n",
            "stressMPa\n",
            "t\n",
            "timesteps\n",
            "topwall\n",
            "total number of hard particles\n",
            "velocity of pressing plate\n",
            "Keys under '2023-11-28-12h02m33s-DataDive_datadive_results.yml':\n",
            "Class\n",
            "Fz\n",
            "Title\n",
            "bottomwall\n",
            "dumprate trajectory\n",
            "dumprate vtk and stl\n",
            "id_file\n",
            "id_folder\n",
            "strain\n",
            "stressMPa\n",
            "t\n",
            "timesteps\n",
            "topwall\n",
            "total number of hard particles\n",
            "velocity of pressing plate\n",
            "Keys under '2023-11-28-12h35m35s-DataDive_datadive_results.yml':\n",
            "Class\n",
            "Fz\n",
            "Title\n",
            "bottomwall\n",
            "dumprate trajectory\n",
            "dumprate vtk and stl\n",
            "id_file\n",
            "id_folder\n",
            "strain\n",
            "stressMPa\n",
            "t\n",
            "timesteps\n",
            "topwall\n",
            "total number of hard particles\n",
            "velocity of pressing plate\n"
          ]
        },
        {
          "output_type": "display_data",
          "data": {
            "text/html": [
              "<html>\n",
              "<head><meta charset=\"utf-8\" /></head>\n",
              "<body>\n",
              "    <div>            <script src=\"https://cdnjs.cloudflare.com/ajax/libs/mathjax/2.7.5/MathJax.js?config=TeX-AMS-MML_SVG\"></script><script type=\"text/javascript\">if (window.MathJax && window.MathJax.Hub && window.MathJax.Hub.Config) {window.MathJax.Hub.Config({SVG: {font: \"STIX-Web\"}});}</script>                <script type=\"text/javascript\">window.PlotlyConfig = {MathJaxConfig: 'local'};</script>\n",
              "        <script charset=\"utf-8\" src=\"https://cdn.plot.ly/plotly-2.24.1.min.js\"></script>                <div id=\"9aee0045-6c59-44c5-97fd-c327c5fb6630\" class=\"plotly-graph-div\" style=\"height:525px; width:100%;\"></div>            <script type=\"text/javascript\">                                    window.PLOTLYENV=window.PLOTLYENV || {};                                    if (document.getElementById(\"9aee0045-6c59-44c5-97fd-c327c5fb6630\")) {                    Plotly.newPlot(                        \"9aee0045-6c59-44c5-97fd-c327c5fb6630\",                        [{\"marker\":{\"symbol\":\"square\"},\"mode\":\"lines+markers\",\"name\":\"Stress & Strain\",\"x\":[0.0,0.0037873049537804748,0.007574609907557855,0.01136191486133537,0.015149219815115845,0.01893652476889336,0.022723829722673835,0.026511134676451213,0.03029843963023182,0.0340857445840092,0.03787304953778672,0.04166035449156719,0.045447659445344575,0.04923496439912518,0.05302226935290256,0.05680957430668008,0.06059687926046055,0.06438418421423793,0.06817148916801855,0.07195879412179593,0.07574609907557639,0.07953340402935391,0.08332070898313143,0.0871080139369119,0.09089531889068928,0.0946826238444668,0.0984699287982443,0.10225723375202168,0.10604453870579907,0.10983184365957659,0.11361914861335114,0.11740645356712852,0.1211937585209059,0.12498106347468341,0.12876836842846093,0.13255567338223845,0.13569491106272374,0.13775758505015562,0.13915971043159142,0.1401074175895843,0.14077419066257027,0.14124172522122885,0.14157731947827926,0.141833084381214,0.14202640242273715,0.1421839409071237,0.1423242970397726,0.14243875873208228,0.1425293292284461,0.14260449243568699,0.14266029383807124,0.14270957432912992,0.14275288166134917,0.14279008431852216,0.14282335217934003,0.14284842534799927,0.1428711738003639,0.14289376460492983,0.1429143057243721,0.1429331496622118,0.14294897437362206,0.1429616994554673,0.14297327813945443,0.1429842680589364,0.14299303197984525,0.14300182997604277,0.14300895801862418,0.14301444425066168,0.14301912774871647,0.1430243818436446,0.1430299303557548,0.14303633051523662,0.14304148512302037,0.1430466247346186,0.14305239366744996,0.14305655483233692,0.14306188258447458,0.14306849560958276,0.14307477354588338,0.14308259882971003,0.1430909785172998,0.1431009362690887,0.143109620360078,0.14311887073892057,0.14312868710934915,0.14317552468486477,0.14320807295069107,0.1432354189779989,0.1432551744505242,0.14326954109521126,0.1432794886860006,0.14328677099977716,0.14329380284886073,0.14330109340775782,0.14330743549766228,0.14331305064594288,0.1433185396213859,0.14332475176947557,0.14333357146947262,0.14334070576760308,0.1433441886314358,0.14334793225074802,0.14335210980111002,0.14335638681900134,0.14336016979703187],\"y\":[0.5094303149935,0.65372887241814,0.7999250114202225,0.9468433169094626,1.1545989039298,1.3760587195190377,1.6367083626086552,1.955896126174555,2.27924260783589,2.5995893905599,3.015219660488225,3.4831185684110246,4.008519285129175,4.590098917357976,5.251818434242125,6.1206861992016,7.213774535060175,8.457319499245175,9.853951169758576,11.43806865549245,13.211420284565977,15.20693736011945,17.421458429523152,19.654791298591476,22.2541874294362,25.094041635372747,28.19677118452475,31.581891980989,35.579790739017746,40.03516743279975,45.30252670598375,51.0987171792405,57.457935401559496,64.42635168671501,71.91282493272375,80.19446424285775,86.76312983217674,91.22217104016849,93.9978060412355,95.801694257227,97.07728275524475,97.99826930445724,98.47180041930275,98.85890242344699,99.083144997265,99.28347822051201,99.331920448543,99.49705871841876,99.57087511355675,99.6836810566375,99.707754897217,99.76229343063551,99.81259842531625,99.83254178064874,99.84904009610624,99.87051183823401,99.86115002845649,99.90263456525925,99.904403445034,99.9181195642555,99.910667983416,99.948272489277,99.95557648425975,99.94301933682449,99.9444016567025,99.9905069440635,99.96424399840926,99.97457259224775,99.9670735233825,99.98641434327699,99.96068789528475,99.99644312088776,99.9702063845505,99.9734334239395,99.98254222350074,99.98476694751051,99.967813436708,99.96366229363575,99.95864686737376,99.96227512826201,99.94582019143076,99.95679282895725,99.957424958839,99.94721555374575,99.945872558841,99.74585361086974,99.83345871857176,99.88996790414126,99.906899381238,99.94258105144526,99.94975840229725,99.96718299247725,99.954992225264,99.96198386341675,99.97164194617251,99.975951731878,99.96706012582226,99.96354408734699,99.97342557244076,99.98323708400551,99.9856909063175,99.976384556668,99.980491453171,99.9772390902965,99.9880631764705],\"type\":\"scatter\"}],                        {\"template\":{\"data\":{\"histogram2dcontour\":[{\"type\":\"histogram2dcontour\",\"colorbar\":{\"outlinewidth\":0,\"ticks\":\"\"},\"colorscale\":[[0.0,\"#0d0887\"],[0.1111111111111111,\"#46039f\"],[0.2222222222222222,\"#7201a8\"],[0.3333333333333333,\"#9c179e\"],[0.4444444444444444,\"#bd3786\"],[0.5555555555555556,\"#d8576b\"],[0.6666666666666666,\"#ed7953\"],[0.7777777777777778,\"#fb9f3a\"],[0.8888888888888888,\"#fdca26\"],[1.0,\"#f0f921\"]]}],\"choropleth\":[{\"type\":\"choropleth\",\"colorbar\":{\"outlinewidth\":0,\"ticks\":\"\"}}],\"histogram2d\":[{\"type\":\"histogram2d\",\"colorbar\":{\"outlinewidth\":0,\"ticks\":\"\"},\"colorscale\":[[0.0,\"#0d0887\"],[0.1111111111111111,\"#46039f\"],[0.2222222222222222,\"#7201a8\"],[0.3333333333333333,\"#9c179e\"],[0.4444444444444444,\"#bd3786\"],[0.5555555555555556,\"#d8576b\"],[0.6666666666666666,\"#ed7953\"],[0.7777777777777778,\"#fb9f3a\"],[0.8888888888888888,\"#fdca26\"],[1.0,\"#f0f921\"]]}],\"heatmap\":[{\"type\":\"heatmap\",\"colorbar\":{\"outlinewidth\":0,\"ticks\":\"\"},\"colorscale\":[[0.0,\"#0d0887\"],[0.1111111111111111,\"#46039f\"],[0.2222222222222222,\"#7201a8\"],[0.3333333333333333,\"#9c179e\"],[0.4444444444444444,\"#bd3786\"],[0.5555555555555556,\"#d8576b\"],[0.6666666666666666,\"#ed7953\"],[0.7777777777777778,\"#fb9f3a\"],[0.8888888888888888,\"#fdca26\"],[1.0,\"#f0f921\"]]}],\"heatmapgl\":[{\"type\":\"heatmapgl\",\"colorbar\":{\"outlinewidth\":0,\"ticks\":\"\"},\"colorscale\":[[0.0,\"#0d0887\"],[0.1111111111111111,\"#46039f\"],[0.2222222222222222,\"#7201a8\"],[0.3333333333333333,\"#9c179e\"],[0.4444444444444444,\"#bd3786\"],[0.5555555555555556,\"#d8576b\"],[0.6666666666666666,\"#ed7953\"],[0.7777777777777778,\"#fb9f3a\"],[0.8888888888888888,\"#fdca26\"],[1.0,\"#f0f921\"]]}],\"contourcarpet\":[{\"type\":\"contourcarpet\",\"colorbar\":{\"outlinewidth\":0,\"ticks\":\"\"}}],\"contour\":[{\"type\":\"contour\",\"colorbar\":{\"outlinewidth\":0,\"ticks\":\"\"},\"colorscale\":[[0.0,\"#0d0887\"],[0.1111111111111111,\"#46039f\"],[0.2222222222222222,\"#7201a8\"],[0.3333333333333333,\"#9c179e\"],[0.4444444444444444,\"#bd3786\"],[0.5555555555555556,\"#d8576b\"],[0.6666666666666666,\"#ed7953\"],[0.7777777777777778,\"#fb9f3a\"],[0.8888888888888888,\"#fdca26\"],[1.0,\"#f0f921\"]]}],\"surface\":[{\"type\":\"surface\",\"colorbar\":{\"outlinewidth\":0,\"ticks\":\"\"},\"colorscale\":[[0.0,\"#0d0887\"],[0.1111111111111111,\"#46039f\"],[0.2222222222222222,\"#7201a8\"],[0.3333333333333333,\"#9c179e\"],[0.4444444444444444,\"#bd3786\"],[0.5555555555555556,\"#d8576b\"],[0.6666666666666666,\"#ed7953\"],[0.7777777777777778,\"#fb9f3a\"],[0.8888888888888888,\"#fdca26\"],[1.0,\"#f0f921\"]]}],\"mesh3d\":[{\"type\":\"mesh3d\",\"colorbar\":{\"outlinewidth\":0,\"ticks\":\"\"}}],\"scatter\":[{\"fillpattern\":{\"fillmode\":\"overlay\",\"size\":10,\"solidity\":0.2},\"type\":\"scatter\"}],\"parcoords\":[{\"type\":\"parcoords\",\"line\":{\"colorbar\":{\"outlinewidth\":0,\"ticks\":\"\"}}}],\"scatterpolargl\":[{\"type\":\"scatterpolargl\",\"marker\":{\"colorbar\":{\"outlinewidth\":0,\"ticks\":\"\"}}}],\"bar\":[{\"error_x\":{\"color\":\"#2a3f5f\"},\"error_y\":{\"color\":\"#2a3f5f\"},\"marker\":{\"line\":{\"color\":\"#E5ECF6\",\"width\":0.5},\"pattern\":{\"fillmode\":\"overlay\",\"size\":10,\"solidity\":0.2}},\"type\":\"bar\"}],\"scattergeo\":[{\"type\":\"scattergeo\",\"marker\":{\"colorbar\":{\"outlinewidth\":0,\"ticks\":\"\"}}}],\"scatterpolar\":[{\"type\":\"scatterpolar\",\"marker\":{\"colorbar\":{\"outlinewidth\":0,\"ticks\":\"\"}}}],\"histogram\":[{\"marker\":{\"pattern\":{\"fillmode\":\"overlay\",\"size\":10,\"solidity\":0.2}},\"type\":\"histogram\"}],\"scattergl\":[{\"type\":\"scattergl\",\"marker\":{\"colorbar\":{\"outlinewidth\":0,\"ticks\":\"\"}}}],\"scatter3d\":[{\"type\":\"scatter3d\",\"line\":{\"colorbar\":{\"outlinewidth\":0,\"ticks\":\"\"}},\"marker\":{\"colorbar\":{\"outlinewidth\":0,\"ticks\":\"\"}}}],\"scattermapbox\":[{\"type\":\"scattermapbox\",\"marker\":{\"colorbar\":{\"outlinewidth\":0,\"ticks\":\"\"}}}],\"scatterternary\":[{\"type\":\"scatterternary\",\"marker\":{\"colorbar\":{\"outlinewidth\":0,\"ticks\":\"\"}}}],\"scattercarpet\":[{\"type\":\"scattercarpet\",\"marker\":{\"colorbar\":{\"outlinewidth\":0,\"ticks\":\"\"}}}],\"carpet\":[{\"aaxis\":{\"endlinecolor\":\"#2a3f5f\",\"gridcolor\":\"white\",\"linecolor\":\"white\",\"minorgridcolor\":\"white\",\"startlinecolor\":\"#2a3f5f\"},\"baxis\":{\"endlinecolor\":\"#2a3f5f\",\"gridcolor\":\"white\",\"linecolor\":\"white\",\"minorgridcolor\":\"white\",\"startlinecolor\":\"#2a3f5f\"},\"type\":\"carpet\"}],\"table\":[{\"cells\":{\"fill\":{\"color\":\"#EBF0F8\"},\"line\":{\"color\":\"white\"}},\"header\":{\"fill\":{\"color\":\"#C8D4E3\"},\"line\":{\"color\":\"white\"}},\"type\":\"table\"}],\"barpolar\":[{\"marker\":{\"line\":{\"color\":\"#E5ECF6\",\"width\":0.5},\"pattern\":{\"fillmode\":\"overlay\",\"size\":10,\"solidity\":0.2}},\"type\":\"barpolar\"}],\"pie\":[{\"automargin\":true,\"type\":\"pie\"}]},\"layout\":{\"autotypenumbers\":\"strict\",\"colorway\":[\"#636efa\",\"#EF553B\",\"#00cc96\",\"#ab63fa\",\"#FFA15A\",\"#19d3f3\",\"#FF6692\",\"#B6E880\",\"#FF97FF\",\"#FECB52\"],\"font\":{\"color\":\"#2a3f5f\"},\"hovermode\":\"closest\",\"hoverlabel\":{\"align\":\"left\"},\"paper_bgcolor\":\"white\",\"plot_bgcolor\":\"#E5ECF6\",\"polar\":{\"bgcolor\":\"#E5ECF6\",\"angularaxis\":{\"gridcolor\":\"white\",\"linecolor\":\"white\",\"ticks\":\"\"},\"radialaxis\":{\"gridcolor\":\"white\",\"linecolor\":\"white\",\"ticks\":\"\"}},\"ternary\":{\"bgcolor\":\"#E5ECF6\",\"aaxis\":{\"gridcolor\":\"white\",\"linecolor\":\"white\",\"ticks\":\"\"},\"baxis\":{\"gridcolor\":\"white\",\"linecolor\":\"white\",\"ticks\":\"\"},\"caxis\":{\"gridcolor\":\"white\",\"linecolor\":\"white\",\"ticks\":\"\"}},\"coloraxis\":{\"colorbar\":{\"outlinewidth\":0,\"ticks\":\"\"}},\"colorscale\":{\"sequential\":[[0.0,\"#0d0887\"],[0.1111111111111111,\"#46039f\"],[0.2222222222222222,\"#7201a8\"],[0.3333333333333333,\"#9c179e\"],[0.4444444444444444,\"#bd3786\"],[0.5555555555555556,\"#d8576b\"],[0.6666666666666666,\"#ed7953\"],[0.7777777777777778,\"#fb9f3a\"],[0.8888888888888888,\"#fdca26\"],[1.0,\"#f0f921\"]],\"sequentialminus\":[[0.0,\"#0d0887\"],[0.1111111111111111,\"#46039f\"],[0.2222222222222222,\"#7201a8\"],[0.3333333333333333,\"#9c179e\"],[0.4444444444444444,\"#bd3786\"],[0.5555555555555556,\"#d8576b\"],[0.6666666666666666,\"#ed7953\"],[0.7777777777777778,\"#fb9f3a\"],[0.8888888888888888,\"#fdca26\"],[1.0,\"#f0f921\"]],\"diverging\":[[0,\"#8e0152\"],[0.1,\"#c51b7d\"],[0.2,\"#de77ae\"],[0.3,\"#f1b6da\"],[0.4,\"#fde0ef\"],[0.5,\"#f7f7f7\"],[0.6,\"#e6f5d0\"],[0.7,\"#b8e186\"],[0.8,\"#7fbc41\"],[0.9,\"#4d9221\"],[1,\"#276419\"]]},\"xaxis\":{\"gridcolor\":\"white\",\"linecolor\":\"white\",\"ticks\":\"\",\"title\":{\"standoff\":15},\"zerolinecolor\":\"white\",\"automargin\":true,\"zerolinewidth\":2},\"yaxis\":{\"gridcolor\":\"white\",\"linecolor\":\"white\",\"ticks\":\"\",\"title\":{\"standoff\":15},\"zerolinecolor\":\"white\",\"automargin\":true,\"zerolinewidth\":2},\"scene\":{\"xaxis\":{\"backgroundcolor\":\"#E5ECF6\",\"gridcolor\":\"white\",\"linecolor\":\"white\",\"showbackground\":true,\"ticks\":\"\",\"zerolinecolor\":\"white\",\"gridwidth\":2},\"yaxis\":{\"backgroundcolor\":\"#E5ECF6\",\"gridcolor\":\"white\",\"linecolor\":\"white\",\"showbackground\":true,\"ticks\":\"\",\"zerolinecolor\":\"white\",\"gridwidth\":2},\"zaxis\":{\"backgroundcolor\":\"#E5ECF6\",\"gridcolor\":\"white\",\"linecolor\":\"white\",\"showbackground\":true,\"ticks\":\"\",\"zerolinecolor\":\"white\",\"gridwidth\":2}},\"shapedefaults\":{\"line\":{\"color\":\"#2a3f5f\"}},\"annotationdefaults\":{\"arrowcolor\":\"#2a3f5f\",\"arrowhead\":0,\"arrowwidth\":1},\"geo\":{\"bgcolor\":\"white\",\"landcolor\":\"#E5ECF6\",\"subunitcolor\":\"white\",\"showland\":true,\"showlakes\":true,\"lakecolor\":\"white\"},\"title\":{\"x\":0.05},\"mapbox\":{\"style\":\"light\"}}},\"title\":{\"text\":\"Stress & Strain\"},\"xaxis\":{\"title\":{\"text\":\"Strain\"}},\"yaxis\":{\"title\":{\"text\":\"Stress\"}}},                        {\"responsive\": true}                    ).then(function(){\n",
              "                            \n",
              "var gd = document.getElementById('9aee0045-6c59-44c5-97fd-c327c5fb6630');\n",
              "var x = new MutationObserver(function (mutations, observer) {{\n",
              "        var display = window.getComputedStyle(gd).display;\n",
              "        if (!display || display === 'none') {{\n",
              "            console.log([gd, 'removed!']);\n",
              "            Plotly.purge(gd);\n",
              "            observer.disconnect();\n",
              "        }}\n",
              "}});\n",
              "\n",
              "// Listen for the removal of the full notebook cells\n",
              "var notebookContainer = gd.closest('#notebook-container');\n",
              "if (notebookContainer) {{\n",
              "    x.observe(notebookContainer, {childList: true});\n",
              "}}\n",
              "\n",
              "// Listen for the clearing of the current output cell\n",
              "var outputEl = gd.closest('.output');\n",
              "if (outputEl) {{\n",
              "    x.observe(outputEl, {childList: true});\n",
              "}}\n",
              "\n",
              "                        })                };                            </script>        </div>\n",
              "</body>\n",
              "</html>"
            ]
          },
          "metadata": {}
        }
      ]
    }
  ]
}